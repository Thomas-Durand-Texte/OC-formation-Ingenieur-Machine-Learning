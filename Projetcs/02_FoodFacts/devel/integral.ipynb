{
 "cells": [
  {
   "attachments": {},
   "cell_type": "markdown",
   "id": "1ea1723b",
   "metadata": {},
   "source": [
    "# Test fonction intégrale ordre 2\n",
    "Created by: Thomas Durand-Texte, Jan. 2023"
   ]
  },
  {
   "attachments": {},
   "cell_type": "markdown",
   "id": "81c88362",
   "metadata": {},
   "source": [
    "# Import des packages"
   ]
  },
  {
   "cell_type": "code",
   "execution_count": 1,
   "id": "554d9098",
   "metadata": {},
   "outputs": [],
   "source": [
    "import numpy as np\n",
    "\n",
    "import matplotlib.pyplot as plt\n",
    "import seaborn as sns\n",
    "\n",
    "if True: # apply qbstyle\n",
    "    from qbstyles import mpl_style\n",
    "    mpl_style( True ) ;\n",
    "else: # seaborn theme\n",
    "    sns.set_theme( ) ;\n",
    "# if #"
   ]
  },
  {
   "attachments": {},
   "cell_type": "markdown",
   "id": "3e1187c2",
   "metadata": {},
   "source": [
    "# Fonction à intégrer\n",
    "$x = exp(-\\alpha x)$"
   ]
  },
  {
   "cell_type": "code",
   "execution_count": 39,
   "id": "ea7ce362",
   "metadata": {},
   "outputs": [
    {
     "name": "stdout",
     "output_type": "stream",
     "text": [
      "y[-1]: 1.000e-04\n"
     ]
    },
    {
     "data": {
      "image/png": "[encoded data removed]",
      "text/plain": [
       "<Figure size 640x480 with 1 Axes>"
      ]
     },
     "metadata": {},
     "output_type": "display_data"
    }
   ],
   "source": [
    "x = np.linspace( 0.001, 3, 100 ) ;\n",
    "alpha = np.log( 1e4 ) / x[-1] ;\n",
    "y = np.exp( -alpha * x ) ;\n",
    "print('y[-1]: {:.3e}'.format(y[-1] ) ) ;\n",
    "\n",
    "\n",
    "plt.plot( x, y, 'r' ) ;\n",
    "ax = plt.gca() ;\n",
    "ax.set_xlabel('x') ;\n",
    "ax.set_ylabel('y') ;"
   ]
  },
  {
   "attachments": {},
   "cell_type": "markdown",
   "id": "9740eb91",
   "metadata": {},
   "source": [
    "# Intégrale théorique\n",
    "$ \\int_{x_1}^{x_2} y \\, dx  = \\left[ \\dfrac{exp(-\\alpha x)}{-\\alpha} \\right]_{x_1}^{x_2} $"
   ]
  },
  {
   "cell_type": "code",
   "execution_count": 40,
   "id": "cc819e16",
   "metadata": {},
   "outputs": [
    {
     "name": "stdout",
     "output_type": "stream",
     "text": [
      "I theorique 0.32468982282829706\n"
     ]
    }
   ],
   "source": [
    "I_theorique = -1/alpha * ( np.exp(-alpha*x[-1]) - np.exp(-alpha*x[0]) ) ;\n",
    "print('I theorique {:}'.format( I_theorique) ) ;"
   ]
  },
  {
   "attachments": {},
   "cell_type": "markdown",
   "id": "8ee7b28b",
   "metadata": {},
   "source": [
    "# Intégrales numériques"
   ]
  },
  {
   "cell_type": "code",
   "execution_count": 42,
   "id": "9057263e",
   "metadata": {},
   "outputs": [
    {
     "name": "stdout",
     "output_type": "stream",
     "text": [
      "I théorique 0.32468982282829706\n",
      "I rectangle 0.34013875184711845\n",
      "I linear 0.3250321670816374\n",
      "n 100 n2*2 100\n",
      "I_simpson: 0.3247950480264179 (49,) x (100,)\n"
     ]
    }
   ],
   "source": [
    "print('I théorique {:}'.format( I_theorique) ) ;\n",
    "print('I rectangle {:}'.format( y.sum() * dx ) ) ;\n",
    "print('I linear {:}'.format( (y[1:]+y[:-1]).sum() * 0.5*dx ) ) ;\n",
    "\n",
    "def int_o2( y, dx):\n",
    "    n2 = y.size//2 ;\n",
    "    print('n', y.size, 'n2*2', 2*n2) ;\n",
    "    I = (y[:-2:2] + 4*y[1:-1:2] + y[2::2]).cumsum() * (dx/3) ;\n",
    "    return I ;\n",
    "# int_o2 #\n",
    "\n",
    "I_simpson = int_o2( y, dx) ;\n",
    "\n",
    "print('I_simpson: {:}'.format( I_simpson[-1] ) , I_simpson.shape, 'x', x.shape ) ;\n"
   ]
  }
 ],
 "metadata": {
  "kernelspec": {
   "display_name": "Python 3",
   "language": "python",
   "name": "python3"
  },
  "language_info": {
   "codemirror_mode": {
    "name": "ipython",
    "version": 3
   },
   "file_extension": ".py",
   "mimetype": "text/x-python",
   "name": "python",
   "nbconvert_exporter": "python",
   "pygments_lexer": "ipython3",
   "version": "3.11.1"
  },
  "vscode": {
   "interpreter": {
    "hash": "767d51c1340bd893661ea55ea3124f6de3c7a262a8b4abca0554b478b1e2ff90"
   }
  }
 },
 "nbformat": 4,
 "nbformat_minor": 5
}
