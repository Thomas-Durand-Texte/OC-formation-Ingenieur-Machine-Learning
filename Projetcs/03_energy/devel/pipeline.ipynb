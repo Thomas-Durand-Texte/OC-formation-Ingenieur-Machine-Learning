{
 "cells": [
  {
   "attachments": {},
   "cell_type": "markdown",
   "id": "1ea1723b",
   "metadata": {},
   "source": [
    "# NOTEBOOK NAME\n",
    "Created by: Thomas Durand-Texte, 2023"
   ]
  },
  {
   "attachments": {},
   "cell_type": "markdown",
   "id": "81c88362",
   "metadata": {},
   "source": [
    "# Import des packages et données\n",
    "## import des packages"
   ]
  },
  {
   "cell_type": "code",
   "execution_count": 7,
   "id": "554d9098",
   "metadata": {},
   "outputs": [],
   "source": [
    "import os\n",
    "\n",
    "import pandas as pd\n",
    "import numpy as np\n",
    "# import dask as dd\n",
    "pd.set_option(\"display.max_columns\", 200)\n",
    "import datetime as dt\n",
    "import scipy.stats as st\n",
    "\n",
    "from sklearn import model_selection, metrics, preprocessing, linear_model\n",
    "from sklearn.pipeline import Pipeline\n",
    "\n",
    "\n",
    "import matplotlib.pyplot as plt\n",
    "import seaborn as sns\n",
    "\n",
    "cm = 1./2.54"
   ]
  },
  {
   "attachments": {},
   "cell_type": "markdown",
   "id": "3e1187c2",
   "metadata": {},
   "source": [
    "## Paramètres graphiques et fonctions utiles"
   ]
  },
  {
   "cell_type": "code",
   "execution_count": 2,
   "id": "ea7ce362",
   "metadata": {},
   "outputs": [],
   "source": [
    "import subprocess\n",
    "\n",
    "white_font = True\n",
    "def set_theme( white_font=True ):\n",
    "    \"\"\" set_theme( white_font=True ) \"\"\"\n",
    "    if white_font: wht, grey, blck = '0.84' , '0.5', 'k'\n",
    "    else: wht, grey, blck = 'k', '0.5', '0.84'\n",
    "    rc = { 'figure.facecolor':(0.118,)*3,\n",
    "            'axes.labelcolor':wht,\n",
    "            'axes.edgecolor':wht,\n",
    "            'axes.facecolor':(0,0,0,0),\n",
    "            'text.color':'white',\n",
    "            'text.usetex':False,\n",
    "            'text.latex.preamble':r'\\usepackage[cm]{sfmath} \\usepackage{amsmath}' ,\n",
    "            'font.family': 'sans-serif' ,\n",
    "            'font.sans-serif': 'DejaVu Sans' ,\n",
    "            'xtick.color':wht,\n",
    "            'ytick.color':wht,\n",
    "            \"axes.grid\" : True,\n",
    "            \"grid.color\": (0.7,)*3,\n",
    "            \"grid.linewidth\": 0.4,\n",
    "            \"grid.linestyle\": (10,5),\n",
    "            'legend.edgecolor':'0.2',\n",
    "            'legend.facecolor':(0.2,0.2,0.2,0.6),\n",
    "            # 'legend.framealpha':'0.6',\n",
    "            'pdf.fonttype':42,\n",
    "            'savefig.format':'pdf',\n",
    "            'savefig.transparent':True,\n",
    "            'figure.dpi':150, # for better agreemet figsize vs real size\n",
    "        }\n",
    "\n",
    "    sns.set_theme( 'notebook' , rc=rc )\n",
    "    return\n",
    "\n",
    "\n",
    "def make_folder( path_folder ):\n",
    "    path_folder = path_folder.__str__()\n",
    "    try:\n",
    "        if os.path.isdir( path_folder ) : return\n",
    "        os.makedirs(path_folder)\n",
    "    except OSError:\n",
    "        pass\n",
    "    return\n",
    "\n",
    "def concat_folders(*args, **kwargs):\n",
    "    \"\"\" concat_folders(*args, **kwargs)\n",
    "        concatenate folders in args (strings) \"\"\"\n",
    "    sPath = ''\n",
    "    for arg in args:\n",
    "        if arg == '..': sPath = sPath[:sPath[:-1].rfind(os.sep)+1]\n",
    "        else: sPath += arg\n",
    "        if sPath[-1] != os.sep: sPath += os.sep\n",
    "    return sPath\n",
    "\n",
    "class Path(object):\n",
    "    \"\"\" Path( s_in='', s_lim=None)\n",
    "        create a path to the string s_in (default is current path)\n",
    "        and stops after s_lim \"\"\"\n",
    "    n_Path = 0\n",
    "    def __init__(self, s_in='', s_lim=None):\n",
    "        \"\"\"docstring.\"\"\"\n",
    "        if s_in == '': s_in = os.getcwd()\n",
    "        if not s_lim is None:\n",
    "            if s_lim in s_in:\n",
    "                s_in = s_in[ :s_in.index( s_lim ) + len(s_lim) ]\n",
    "        self.sPath = concat_folders(s_in)\n",
    "        self.N = Path.n_Path\n",
    "        Path.n_Path += 1\n",
    "\n",
    "    def __add__(self, other):\n",
    "        \"\"\" Path + str : return str \"\"\"\n",
    "        if isinstance(other, str): return self.sPath + other\n",
    "\n",
    "    def __truediv__(self, other):\n",
    "        \"\"\" Path / str : return path concatenated\"\"\"\n",
    "        if isinstance(other, str): return Path(concat_folders(self.sPath, other))\n",
    "\n",
    "    def __invert__(self):\n",
    "        \"\"\" ~Path : return str of the path \"\"\"\n",
    "        return self.sPath\n",
    "\n",
    "    def __str__(self):\n",
    "        \"\"\" __str__ return str of the path \"\"\"\n",
    "        return self.sPath\n",
    "    # __str__ #\n",
    "\n",
    "    def makedir( self ):\n",
    "        return make_folder( self )\n",
    "\n",
    "\n",
    "def gs_opt( filename ):\n",
    "    \"\"\" otpimisation of a pdf file with gosthscript \"\"\"\n",
    "    filenameTmp = filename.replace('.pdf', '') + '_tmp.pdf'\n",
    "    gs = ['gs',\n",
    "            '-sDEVICE=pdfwrite',\n",
    "            '-dEmbedAllFonts=true',\n",
    "            '-dSubsetFonts=true',             # Create font subsets (default)\n",
    "            '-dPDFSETTINGS=/prepress',        # Image resolution\n",
    "            '-dDetectDuplicateImages=true',   # Embeds images used multiple times only once\n",
    "            '-dCompressFonts=true',           # Compress fonts in the output (default)\n",
    "            '-dNOPAUSE',                      # No pause after each image\n",
    "            '-dQUIET',                        # Suppress output\n",
    "            '-dBATCH',                        # Automatically exit\n",
    "            '-sOutputFile='+filenameTmp,      # Save to temporary output\n",
    "            filename]                         # Input file\n",
    "\n",
    "    subprocess.run(gs)                                      # Create temporary file\n",
    "    subprocess.run( 'rm -f ' + filename, shell=True)            # Delete input file\n",
    "    subprocess.run( 'mv -f ' + filenameTmp + \" \" + filename, shell=True) # Rename temporary to input file\n",
    "\n",
    "def savefig( fig, savename, **kwargs ):\n",
    "    \"\"\" savefig( fig, savename, **kwargs )\n",
    "        Saves a figure with kwargs (fig.savefig( savename, **kwargs) ).\n",
    "        A check is done first to determine if a folder has to be created according to savename.\n",
    "        Finally, if the file is saved as .pdf, gosthscript optimisation is performed. \"\"\"\n",
    "    if os.sep in savename: make_folder( savename[:savename.rindex(os.sep)] )\n",
    "    fig.savefig( savename, **kwargs )\n",
    "    savename += '.pdf'\n",
    "    if os.path.isfile( savename ): gs_opt( savename )\n",
    "\n",
    "\n",
    "def image_size_from_width_and_shape( width: float, shape: tuple, ymargin=0. ):\n",
    "    \"\"\" return tuple (width, height) corresponding to image shape \"\"\"\n",
    "    return width, width*shape[0]/shape[1]+ymargin\n",
    "\n",
    "def image_size_from_height_and_shape( height: float, shape: tuple, xmargin=0. ):\n",
    "    \"\"\" return tuple (width, height) corresponding to image shape \"\"\"\n",
    "    return height*shape[1]/shape[0]+xmargin, height\n",
    "\n",
    "\n",
    "set_theme()\n",
    "del set_theme"
   ]
  },
  {
   "attachments": {},
   "cell_type": "markdown",
   "id": "67db9758",
   "metadata": {},
   "source": [
    "## Chargement des données"
   ]
  },
  {
   "attachments": {},
   "cell_type": "markdown",
   "id": "fca7a85c",
   "metadata": {},
   "source": [
    "Affichage de l'arborescence"
   ]
  },
  {
   "cell_type": "code",
   "execution_count": 3,
   "id": "18c1a503",
   "metadata": {},
   "outputs": [
    {
     "name": "stdout",
     "output_type": "stream",
     "text": [
      " Exploration_v0 (copy).ipynb\n",
      " Exploration_v0.ipynb\n",
      " Modelisation_energy_v0.ipynb\n",
      " pipeline.ipynb\n",
      " regressor.ipynb\n"
     ]
    }
   ],
   "source": [
    "def print_listdir( path=None, level=0, exclude=[] ) :\n",
    "    suffix = ''\n",
    "    if level > 0:\n",
    "        suffix = ' |-'* level\n",
    "    vals = os.listdir( path )\n",
    "    vals.sort()\n",
    "    if path is None:\n",
    "        path = ''\n",
    "    for val in vals:\n",
    "        if val in exclude: continue\n",
    "        print( suffix, val)\n",
    "        if os.path.isdir( path + val):\n",
    "            print_listdir( path + val + '/', level+1 )\n",
    "\n",
    "print_listdir( exclude=['.venv'] )"
   ]
  },
  {
   "attachments": {},
   "cell_type": "markdown",
   "id": "85cb9fee",
   "metadata": {},
   "source": [
    "Chargement / compression des données"
   ]
  },
  {
   "cell_type": "code",
   "execution_count": 26,
   "id": "ac367d41",
   "metadata": {},
   "outputs": [],
   "source": [
    "x = np.arange(1, 100)\n",
    "y = x ** 2 + np.random.randn( x.size ) * 0.01\n",
    "X = x.reshape(-1,1)"
   ]
  },
  {
   "cell_type": "code",
   "execution_count": 35,
   "id": "f5f93487",
   "metadata": {},
   "outputs": [],
   "source": [
    "class TargetTransformer:\n",
    "    def __init__(self):\n",
    "        self.cst = 0.\n",
    "        self.coef = 1.\n",
    "        return\n",
    "    def get_dico_func(self):\n",
    "        return {'func':self.transform, 'inverse_func':self.reverse }\n",
    "    def fit( self, y ):\n",
    "        return self\n",
    "    def transform(self, y ):\n",
    "        return np.sqrt( y )\n",
    "    def inverse_transform(self, y ):\n",
    "        return y**2\n",
    "\n",
    "class model_with_y_transform:\n",
    "    def __init__( self, fitted_model, transformer ):\n",
    "        self.model = fitted_model\n",
    "        self.transformer = transformer\n",
    "    def fit( self, X, y ):\n",
    "        self.transformer.fit( y )\n",
    "        self.model.fit( X, self.transformer.transform(y) )\n",
    "        return self\n",
    "    def predict( self, X ):\n",
    "        return self.transformer.inverse_transform( self.model.predict( X ) )\n",
    "\n",
    "\n",
    "model = model_with_y_transform( linear_model.LinearRegression(), TargetTransformer() ).fit(X, y )"
   ]
  },
  {
   "cell_type": "code",
   "execution_count": 36,
   "id": "8255b264",
   "metadata": {},
   "outputs": [
    {
     "data": {
      "text/plain": [
       "[<matplotlib.lines.Line2D at 0x7f178769d290>]"
      ]
     },
     "execution_count": 36,
     "metadata": {},
     "output_type": "execute_result"
    },
    {
     "data": {
      "image/png": "[encoded data removed]",
      "text/plain": [
       "<Figure size 960x720 with 1 Axes>"
      ]
     },
     "metadata": {},
     "output_type": "display_data"
    }
   ],
   "source": [
    "y2 = model.predict( X )\n",
    "\n",
    "fig, ax = plt.subplots()\n",
    "ax.plot( x,y, 'ro' )\n",
    "ax.plot( x,y2, 'b' )"
   ]
  }
 ],
 "metadata": {
  "kernelspec": {
   "display_name": "Python 3",
   "language": "python",
   "name": "python3"
  },
  "language_info": {
   "codemirror_mode": {
    "name": "ipython",
    "version": 3
   },
   "file_extension": ".py",
   "mimetype": "text/x-python",
   "name": "python",
   "nbconvert_exporter": "python",
   "pygments_lexer": "ipython3",
   "version": "3.11.1"
  },
  "vscode": {
   "interpreter": {
    "hash": "767d51c1340bd893661ea55ea3124f6de3c7a262a8b4abca0554b478b1e2ff90"
   }
  }
 },
 "nbformat": 4,
 "nbformat_minor": 5
}
