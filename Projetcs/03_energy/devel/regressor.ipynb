{
 "cells": [
  {
   "attachments": {},
   "cell_type": "markdown",
   "id": "1ea1723b",
   "metadata": {},
   "source": [
    "# NOTEBOOK NAME\n",
    "Created by: Thomas Durand-Texte, 2023"
   ]
  },
  {
   "attachments": {},
   "cell_type": "markdown",
   "id": "81c88362",
   "metadata": {},
   "source": [
    "# Import des packages et données\n",
    "## import des packages"
   ]
  },
  {
   "cell_type": "code",
   "execution_count": 22,
   "id": "554d9098",
   "metadata": {},
   "outputs": [],
   "source": [
    "import os\n",
    "\n",
    "import pandas as pd\n",
    "import numpy as np\n",
    "# import dask as dd\n",
    "pd.set_option(\"display.max_columns\", 200)\n",
    "import datetime as dt\n",
    "import scipy.stats as st\n",
    "\n",
    "from sklearn import model_selection, metrics, preprocessing, linear_model\n",
    "\n",
    "\n",
    "import matplotlib.pyplot as plt\n",
    "import seaborn as sns\n",
    "\n",
    "cm = 1./2.54"
   ]
  },
  {
   "attachments": {},
   "cell_type": "markdown",
   "id": "3e1187c2",
   "metadata": {},
   "source": [
    "## Paramètres graphiques et fonctions utiles"
   ]
  },
  {
   "cell_type": "code",
   "execution_count": 23,
   "id": "ea7ce362",
   "metadata": {},
   "outputs": [],
   "source": [
    "import subprocess\n",
    "\n",
    "white_font = True\n",
    "def set_theme( white_font=True ):\n",
    "    \"\"\" set_theme( white_font=True ) \"\"\"\n",
    "    if white_font: wht, grey, blck = '0.84' , '0.5', 'k'\n",
    "    else: wht, grey, blck = 'k', '0.5', '0.84'\n",
    "    rc = { 'figure.facecolor':(0.118,)*3,\n",
    "            'axes.labelcolor':wht,\n",
    "            'axes.edgecolor':wht,\n",
    "            'axes.facecolor':(0,0,0,0),\n",
    "            'text.color':'white',\n",
    "            'text.usetex':False,\n",
    "            'text.latex.preamble':r'\\usepackage[cm]{sfmath} \\usepackage{amsmath}' ,\n",
    "            'font.family': 'sans-serif' ,\n",
    "            'font.sans-serif': 'DejaVu Sans' ,\n",
    "            'xtick.color':wht,\n",
    "            'ytick.color':wht,\n",
    "            \"axes.grid\" : True,\n",
    "            \"grid.color\": (0.7,)*3,\n",
    "            \"grid.linewidth\": 0.4,\n",
    "            \"grid.linestyle\": (10,5),\n",
    "            'legend.edgecolor':'0.2',\n",
    "            'legend.facecolor':(0.2,0.2,0.2,0.6),\n",
    "            # 'legend.framealpha':'0.6',\n",
    "            'pdf.fonttype':42,\n",
    "            'savefig.format':'pdf',\n",
    "            'savefig.transparent':True,\n",
    "            'figure.dpi':150, # for better agreemet figsize vs real size\n",
    "        }\n",
    "\n",
    "    sns.set_theme( 'notebook' , rc=rc )\n",
    "    return\n",
    "\n",
    "\n",
    "def make_folder( path_folder ):\n",
    "    path_folder = path_folder.__str__()\n",
    "    try:\n",
    "        if os.path.isdir( path_folder ) : return\n",
    "        os.makedirs(path_folder)\n",
    "    except OSError:\n",
    "        pass\n",
    "    return\n",
    "\n",
    "def concat_folders(*args, **kwargs):\n",
    "    \"\"\" concat_folders(*args, **kwargs)\n",
    "        concatenate folders in args (strings) \"\"\"\n",
    "    sPath = ''\n",
    "    for arg in args:\n",
    "        if arg == '..': sPath = sPath[:sPath[:-1].rfind(os.sep)+1]\n",
    "        else: sPath += arg\n",
    "        if sPath[-1] != os.sep: sPath += os.sep\n",
    "    return sPath\n",
    "\n",
    "class Path(object):\n",
    "    \"\"\" Path( s_in='', s_lim=None)\n",
    "        create a path to the string s_in (default is current path)\n",
    "        and stops after s_lim \"\"\"\n",
    "    n_Path = 0\n",
    "    def __init__(self, s_in='', s_lim=None):\n",
    "        \"\"\"docstring.\"\"\"\n",
    "        if s_in == '': s_in = os.getcwd()\n",
    "        if not s_lim is None:\n",
    "            if s_lim in s_in:\n",
    "                s_in = s_in[ :s_in.index( s_lim ) + len(s_lim) ]\n",
    "        self.sPath = concat_folders(s_in)\n",
    "        self.N = Path.n_Path\n",
    "        Path.n_Path += 1\n",
    "\n",
    "    def __add__(self, other):\n",
    "        \"\"\" Path + str : return str \"\"\"\n",
    "        if isinstance(other, str): return self.sPath + other\n",
    "\n",
    "    def __truediv__(self, other):\n",
    "        \"\"\" Path / str : return path concatenated\"\"\"\n",
    "        if isinstance(other, str): return Path(concat_folders(self.sPath, other))\n",
    "\n",
    "    def __invert__(self):\n",
    "        \"\"\" ~Path : return str of the path \"\"\"\n",
    "        return self.sPath\n",
    "\n",
    "    def __str__(self):\n",
    "        \"\"\" __str__ return str of the path \"\"\"\n",
    "        return self.sPath\n",
    "    # __str__ #\n",
    "\n",
    "    def makedir( self ):\n",
    "        return make_folder( self )\n",
    "\n",
    "\n",
    "def gs_opt( filename ):\n",
    "    \"\"\" otpimisation of a pdf file with gosthscript \"\"\"\n",
    "    filenameTmp = filename.replace('.pdf', '') + '_tmp.pdf'\n",
    "    gs = ['gs',\n",
    "            '-sDEVICE=pdfwrite',\n",
    "            '-dEmbedAllFonts=true',\n",
    "            '-dSubsetFonts=true',             # Create font subsets (default)\n",
    "            '-dPDFSETTINGS=/prepress',        # Image resolution\n",
    "            '-dDetectDuplicateImages=true',   # Embeds images used multiple times only once\n",
    "            '-dCompressFonts=true',           # Compress fonts in the output (default)\n",
    "            '-dNOPAUSE',                      # No pause after each image\n",
    "            '-dQUIET',                        # Suppress output\n",
    "            '-dBATCH',                        # Automatically exit\n",
    "            '-sOutputFile='+filenameTmp,      # Save to temporary output\n",
    "            filename]                         # Input file\n",
    "\n",
    "    subprocess.run(gs)                                      # Create temporary file\n",
    "    subprocess.run( 'rm -f ' + filename, shell=True)            # Delete input file\n",
    "    subprocess.run( 'mv -f ' + filenameTmp + \" \" + filename, shell=True) # Rename temporary to input file\n",
    "\n",
    "def savefig( fig, savename, **kwargs ):\n",
    "    \"\"\" savefig( fig, savename, **kwargs )\n",
    "        Saves a figure with kwargs (fig.savefig( savename, **kwargs) ).\n",
    "        A check is done first to determine if a folder has to be created according to savename.\n",
    "        Finally, if the file is saved as .pdf, gosthscript optimisation is performed. \"\"\"\n",
    "    if os.sep in savename: make_folder( savename[:savename.rindex(os.sep)] )\n",
    "    fig.savefig( savename, **kwargs )\n",
    "    savename += '.pdf'\n",
    "    if os.path.isfile( savename ): gs_opt( savename )\n",
    "\n",
    "\n",
    "def image_size_from_width_and_shape( width: float, shape: tuple, ymargin=0. ):\n",
    "    \"\"\" return tuple (width, height) corresponding to image shape \"\"\"\n",
    "    return width, width*shape[0]/shape[1]+ymargin\n",
    "\n",
    "def image_size_from_height_and_shape( height: float, shape: tuple, xmargin=0. ):\n",
    "    \"\"\" return tuple (width, height) corresponding to image shape \"\"\"\n",
    "    return height*shape[1]/shape[0]+xmargin, height\n",
    "\n",
    "\n",
    "set_theme()\n",
    "del set_theme"
   ]
  },
  {
   "attachments": {},
   "cell_type": "markdown",
   "id": "67db9758",
   "metadata": {},
   "source": [
    "## Chargement des données"
   ]
  },
  {
   "attachments": {},
   "cell_type": "markdown",
   "id": "fca7a85c",
   "metadata": {},
   "source": [
    "Affichage de l'arborescence"
   ]
  },
  {
   "cell_type": "code",
   "execution_count": 24,
   "id": "18c1a503",
   "metadata": {},
   "outputs": [],
   "source": [
    "x = np.arange(100)\n",
    "y = 10 + 0.1 * x\n",
    "\n",
    "lasso = linear_model.Lasso( alpha=1e-5, fit_intercept=True ).fit( x.reshape(-1,1), y )"
   ]
  },
  {
   "cell_type": "code",
   "execution_count": 25,
   "id": "5db9afb4",
   "metadata": {},
   "outputs": [
    {
     "name": "stdout",
     "output_type": "stream",
     "text": [
      "10.000000594059404\n"
     ]
    },
    {
     "data": {
      "text/plain": [
       "[<matplotlib.lines.Line2D at 0x7f85b7a51290>]"
      ]
     },
     "execution_count": 25,
     "metadata": {},
     "output_type": "execute_result"
    },
    {
     "data": {
      "image/png": "[encoded data removed]",
      "text/plain": [
       "<Figure size 708.661x472.441 with 1 Axes>"
      ]
     },
     "metadata": {},
     "output_type": "display_data"
    }
   ],
   "source": [
    "print( lasso.intercept_ )\n",
    "fig, ax = plt.subplots( figsize=(12*cm,8*cm))\n",
    "ax.plot( x[[0,-1]], lasso.predict( x[[0,-1]].reshape(-1,1) ), 'r' )\n",
    "ax.plot( x, y, 'bo', markersize=1)"
   ]
  },
  {
   "attachments": {},
   "cell_type": "markdown",
   "id": "85cb9fee",
   "metadata": {},
   "source": [
    "Chargement / compression des données"
   ]
  },
  {
   "cell_type": "code",
   "execution_count": 31,
   "id": "ac367d41",
   "metadata": {},
   "outputs": [
    {
     "data": {
      "text/html": [
       "<div>\n",
       "<style scoped>\n",
       "    .dataframe tbody tr th:only-of-type {\n",
       "        vertical-align: middle;\n",
       "    }\n",
       "\n",
       "    .dataframe tbody tr th {\n",
       "        vertical-align: top;\n",
       "    }\n",
       "\n",
       "    .dataframe thead th {\n",
       "        text-align: right;\n",
       "    }\n",
       "</style>\n",
       "<table border=\"1\" class=\"dataframe\">\n",
       "  <thead>\n",
       "    <tr style=\"text-align: right;\">\n",
       "      <th></th>\n",
       "      <th>a</th>\n",
       "      <th>b</th>\n",
       "      <th>c</th>\n",
       "    </tr>\n",
       "  </thead>\n",
       "  <tbody>\n",
       "    <tr>\n",
       "      <th>0</th>\n",
       "      <td>1</td>\n",
       "      <td>4</td>\n",
       "      <td>7</td>\n",
       "    </tr>\n",
       "    <tr>\n",
       "      <th>1</th>\n",
       "      <td>2</td>\n",
       "      <td>5</td>\n",
       "      <td>8</td>\n",
       "    </tr>\n",
       "    <tr>\n",
       "      <th>2</th>\n",
       "      <td>3</td>\n",
       "      <td>6</td>\n",
       "      <td>9</td>\n",
       "    </tr>\n",
       "  </tbody>\n",
       "</table>\n",
       "</div>"
      ],
      "text/plain": [
       "   a  b  c\n",
       "0  1  4  7\n",
       "1  2  5  8\n",
       "2  3  6  9"
      ]
     },
     "execution_count": 31,
     "metadata": {},
     "output_type": "execute_result"
    }
   ],
   "source": [
    "df = pd.DataFrame( {'a':[1,2,3], 'b':[4,5,6], 'c':[7,8,9]})\n",
    "df"
   ]
  },
  {
   "cell_type": "code",
   "execution_count": 32,
   "id": "f5f93487",
   "metadata": {},
   "outputs": [
    {
     "name": "stdout",
     "output_type": "stream",
     "text": [
      "[[0.08333333 0.26666667 0.38888889]\n",
      " [0.16666667 0.33333333 0.44444444]\n",
      " [0.25       0.4        0.5       ]]\n"
     ]
    },
    {
     "data": {
      "text/html": [
       "<div>\n",
       "<style scoped>\n",
       "    .dataframe tbody tr th:only-of-type {\n",
       "        vertical-align: middle;\n",
       "    }\n",
       "\n",
       "    .dataframe tbody tr th {\n",
       "        vertical-align: top;\n",
       "    }\n",
       "\n",
       "    .dataframe thead th {\n",
       "        text-align: right;\n",
       "    }\n",
       "</style>\n",
       "<table border=\"1\" class=\"dataframe\">\n",
       "  <thead>\n",
       "    <tr style=\"text-align: right;\">\n",
       "      <th></th>\n",
       "      <th>a</th>\n",
       "      <th>b</th>\n",
       "      <th>c</th>\n",
       "    </tr>\n",
       "  </thead>\n",
       "  <tbody>\n",
       "    <tr>\n",
       "      <th>0</th>\n",
       "      <td>0.083333</td>\n",
       "      <td>0.266667</td>\n",
       "      <td>0.388889</td>\n",
       "    </tr>\n",
       "    <tr>\n",
       "      <th>1</th>\n",
       "      <td>0.166667</td>\n",
       "      <td>0.333333</td>\n",
       "      <td>0.444444</td>\n",
       "    </tr>\n",
       "    <tr>\n",
       "      <th>2</th>\n",
       "      <td>0.250000</td>\n",
       "      <td>0.400000</td>\n",
       "      <td>0.500000</td>\n",
       "    </tr>\n",
       "  </tbody>\n",
       "</table>\n",
       "</div>"
      ],
      "text/plain": [
       "          a         b         c\n",
       "0  0.083333  0.266667  0.388889\n",
       "1  0.166667  0.333333  0.444444\n",
       "2  0.250000  0.400000  0.500000"
      ]
     },
     "execution_count": 32,
     "metadata": {},
     "output_type": "execute_result"
    }
   ],
   "source": [
    "print(df[:].values / df[:].sum(1).values)\n",
    "df[:] = df[:].values / df[:].sum(1).values\n",
    "df"
   ]
  },
  {
   "cell_type": "code",
   "execution_count": 30,
   "id": "5100c2a7",
   "metadata": {},
   "outputs": [
    {
     "data": {
      "text/html": [
       "<div>\n",
       "<style scoped>\n",
       "    .dataframe tbody tr th:only-of-type {\n",
       "        vertical-align: middle;\n",
       "    }\n",
       "\n",
       "    .dataframe tbody tr th {\n",
       "        vertical-align: top;\n",
       "    }\n",
       "\n",
       "    .dataframe thead th {\n",
       "        text-align: right;\n",
       "    }\n",
       "</style>\n",
       "<table border=\"1\" class=\"dataframe\">\n",
       "  <thead>\n",
       "    <tr style=\"text-align: right;\">\n",
       "      <th></th>\n",
       "      <th>a</th>\n",
       "      <th>b</th>\n",
       "      <th>c</th>\n",
       "    </tr>\n",
       "  </thead>\n",
       "  <tbody>\n",
       "    <tr>\n",
       "      <th>0</th>\n",
       "      <td>0.083333</td>\n",
       "      <td>0.266667</td>\n",
       "      <td>0.388889</td>\n",
       "    </tr>\n",
       "    <tr>\n",
       "      <th>1</th>\n",
       "      <td>0.166667</td>\n",
       "      <td>0.333333</td>\n",
       "      <td>0.444444</td>\n",
       "    </tr>\n",
       "    <tr>\n",
       "      <th>2</th>\n",
       "      <td>0.250000</td>\n",
       "      <td>0.400000</td>\n",
       "      <td>0.500000</td>\n",
       "    </tr>\n",
       "  </tbody>\n",
       "</table>\n",
       "</div>"
      ],
      "text/plain": [
       "          a         b         c\n",
       "0  0.083333  0.266667  0.388889\n",
       "1  0.166667  0.333333  0.444444\n",
       "2  0.250000  0.400000  0.500000"
      ]
     },
     "execution_count": 30,
     "metadata": {},
     "output_type": "execute_result"
    }
   ],
   "source": [
    "df"
   ]
  }
 ],
 "metadata": {
  "kernelspec": {
   "display_name": "Python 3",
   "language": "python",
   "name": "python3"
  },
  "language_info": {
   "codemirror_mode": {
    "name": "ipython",
    "version": 3
   },
   "file_extension": ".py",
   "mimetype": "text/x-python",
   "name": "python",
   "nbconvert_exporter": "python",
   "pygments_lexer": "ipython3",
   "version": "3.11.1"
  },
  "vscode": {
   "interpreter": {
    "hash": "767d51c1340bd893661ea55ea3124f6de3c7a262a8b4abca0554b478b1e2ff90"
   }
  }
 },
 "nbformat": 4,
 "nbformat_minor": 5
}
